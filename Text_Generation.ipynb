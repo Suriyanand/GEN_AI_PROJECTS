{
  "cells": [
    {
      "cell_type": "markdown",
      "metadata": {
        "id": "view-in-github",
        "colab_type": "text"
      },
      "source": [
        "<a href=\"https://colab.research.google.com/github/Suriyanand/GEN_AI_PROJECTS/blob/main/Text_Generation.ipynb\" target=\"_parent\"><img src=\"https://colab.research.google.com/assets/colab-badge.svg\" alt=\"Open In Colab\"/></a>"
      ]
    },
    {
      "cell_type": "code",
      "execution_count": null,
      "metadata": {
        "id": "WO4EsZvHZbRo"
      },
      "outputs": [],
      "source": [
        "import numpy as np\n",
        "import pandas as pd\n",
        "import matplotlib.pyplot as plt"
      ]
    },
    {
      "cell_type": "code",
      "execution_count": null,
      "metadata": {
        "colab": {
          "base_uri": "https://localhost:8080/"
        },
        "id": "Vbk8sYpAZ0xR",
        "outputId": "6b440c68-de2a-44bc-920e-2d1525d41e32"
      },
      "outputs": [
        {
          "output_type": "stream",
          "name": "stdout",
          "text": [
            "                                                Review  Rating\n",
            "0    Does absolutely nothing for a LinkedIn beginne...       1\n",
            "1                              Force close(galaxy tab)       1\n",
            "2    Slow and it tries to upload your contacts with...       1\n",
            "3    Add ability to customize the profile and move ...       4\n",
            "4    Good app, but it's a pain that it's not possib...       4\n",
            "..                                                 ...     ...\n",
            "697  Can't trust, Going to uninstall just for that ...       1\n",
            "698  It really gets me linked in with my friends. H...       5\n",
            "699  It lacks most of what makes the other social n...       4\n",
            "700  Really disappointed in the new version. Seems ...       2\n",
            "701  One of the best looking and well designed apps...       5\n",
            "\n",
            "[702 rows x 2 columns]\n"
          ]
        }
      ],
      "source": [
        "df = pd.read_csv(r\"/content/linkedin-reviews.csv\")\n",
        "print(df)"
      ]
    },
    {
      "cell_type": "code",
      "execution_count": null,
      "metadata": {
        "colab": {
          "base_uri": "https://localhost:8080/"
        },
        "id": "tX-1TDLCbCjZ",
        "outputId": "eb77189c-0f26-43e2-9f82-aca21bfa90e2"
      },
      "outputs": [
        {
          "output_type": "stream",
          "name": "stderr",
          "text": [
            "No model was supplied, defaulted to distilbert/distilbert-base-uncased-finetuned-sst-2-english and revision 714eb0f (https://huggingface.co/distilbert/distilbert-base-uncased-finetuned-sst-2-english).\n",
            "Using a pipeline without specifying a model name and revision in production is not recommended.\n",
            "Device set to use cpu\n"
          ]
        },
        {
          "output_type": "stream",
          "name": "stdout",
          "text": [
            "0      NEGATIVE\n",
            "1      POSITIVE\n",
            "2      NEGATIVE\n",
            "3      POSITIVE\n",
            "4      NEGATIVE\n",
            "         ...   \n",
            "697    NEGATIVE\n",
            "698    POSITIVE\n",
            "699    NEGATIVE\n",
            "700    NEGATIVE\n",
            "701    POSITIVE\n",
            "Name: sentiment, Length: 702, dtype: object\n"
          ]
        }
      ],
      "source": [
        "from transformers import pipeline\n",
        "\n",
        "classifier = pipeline(\"sentiment-analysis\")\n",
        "df[\"sentiment\"] = df[\"Review\"].apply(lambda x: classifier(x)[0]['label'])\n",
        "print(df[\"sentiment\"])"
      ]
    },
    {
      "cell_type": "code",
      "execution_count": null,
      "metadata": {
        "id": "AfcnxOxLhWdK",
        "colab": {
          "base_uri": "https://localhost:8080/"
        },
        "outputId": "4fbe4fe8-13f5-43ec-df35-3130667ad6d0"
      },
      "outputs": [
        {
          "output_type": "stream",
          "name": "stdout",
          "text": [
            "0      negative\n",
            "1      positive\n",
            "2      negative\n",
            "3      positive\n",
            "4      negative\n",
            "         ...   \n",
            "697    negative\n",
            "698    positive\n",
            "699    negative\n",
            "700    negative\n",
            "701    positive\n",
            "Name: sentiment, Length: 702, dtype: object\n"
          ]
        }
      ],
      "source": [
        "df['sentiment'] = df['sentiment'].map({\"POSITIVE\" : \"positive\" , \"NEGATIVE\" : \"negative\"})\n",
        "print(df['sentiment'])"
      ]
    },
    {
      "cell_type": "code",
      "execution_count": null,
      "metadata": {
        "id": "iM3rjZAQd5lX"
      },
      "outputs": [],
      "source": [
        "df.to_csv(\"classified_data.csv\",index = False)"
      ]
    },
    {
      "cell_type": "code",
      "execution_count": null,
      "metadata": {
        "colab": {
          "base_uri": "https://localhost:8080/"
        },
        "id": "sutxuC3GfZnj",
        "outputId": "0cabad0b-0b29-4d65-9251-920b7da76375"
      },
      "outputs": [
        {
          "output_type": "stream",
          "name": "stderr",
          "text": [
            "Device set to use cpu\n"
          ]
        }
      ],
      "source": [
        "genertor = pipeline(\"text2text-generation\",model = \"google/flan-t5-small\")"
      ]
    },
    {
      "cell_type": "code",
      "execution_count": null,
      "metadata": {
        "id": "ATZC8E9UgDxx"
      },
      "outputs": [],
      "source": [
        "def genertor_respone(review):\n",
        "  prompt = \"Write a professional respose for customer :{review}\"\n",
        "  response = genertor(prompt,max_length = 50,do_sample = True )\n",
        "  return response[0][\"generated_text\"]\n",
        "\n",
        "df[\"response\"] = df[\"Review\"].apply(genertor_respone)"
      ]
    },
    {
      "cell_type": "code",
      "source": [
        "df[\"response\"]"
      ],
      "metadata": {
        "colab": {
          "base_uri": "https://localhost:8080/",
          "height": 458
        },
        "id": "g0V_4HANzBIb",
        "outputId": "45d55b4a-900f-4193-dd56-c7df55e6c8b5"
      },
      "execution_count": null,
      "outputs": [
        {
          "output_type": "execute_result",
          "data": {
            "text/plain": [
              "0       Please help me to get in touch with your loca...\n",
              "1                                                      e\n",
              "2                                              Answer: _\n",
              "3       I want the staff to try to explain my review,...\n",
              "4                                                     \"\"\n",
              "                             ...                        \n",
              "697    ...please review in advance if you want your '...\n",
              "698        If you like to buy some meat ;               \n",
              "699        еинает, рмонна од наиалнм установленм укааннм\n",
              "700                                        Observational\n",
              "701     I am unable to review the customer :(We have ...\n",
              "Name: response, Length: 702, dtype: object"
            ],
            "text/html": [
              "<div>\n",
              "<style scoped>\n",
              "    .dataframe tbody tr th:only-of-type {\n",
              "        vertical-align: middle;\n",
              "    }\n",
              "\n",
              "    .dataframe tbody tr th {\n",
              "        vertical-align: top;\n",
              "    }\n",
              "\n",
              "    .dataframe thead th {\n",
              "        text-align: right;\n",
              "    }\n",
              "</style>\n",
              "<table border=\"1\" class=\"dataframe\">\n",
              "  <thead>\n",
              "    <tr style=\"text-align: right;\">\n",
              "      <th></th>\n",
              "      <th>response</th>\n",
              "    </tr>\n",
              "  </thead>\n",
              "  <tbody>\n",
              "    <tr>\n",
              "      <th>0</th>\n",
              "      <td>Please help me to get in touch with your loca...</td>\n",
              "    </tr>\n",
              "    <tr>\n",
              "      <th>1</th>\n",
              "      <td>e</td>\n",
              "    </tr>\n",
              "    <tr>\n",
              "      <th>2</th>\n",
              "      <td>Answer: _</td>\n",
              "    </tr>\n",
              "    <tr>\n",
              "      <th>3</th>\n",
              "      <td>I want the staff to try to explain my review,...</td>\n",
              "    </tr>\n",
              "    <tr>\n",
              "      <th>4</th>\n",
              "      <td>\"\"</td>\n",
              "    </tr>\n",
              "    <tr>\n",
              "      <th>...</th>\n",
              "      <td>...</td>\n",
              "    </tr>\n",
              "    <tr>\n",
              "      <th>697</th>\n",
              "      <td>...please review in advance if you want your '...</td>\n",
              "    </tr>\n",
              "    <tr>\n",
              "      <th>698</th>\n",
              "      <td>If you like to buy some meat ;</td>\n",
              "    </tr>\n",
              "    <tr>\n",
              "      <th>699</th>\n",
              "      <td>еинает, рмонна од наиалнм установленм укааннм</td>\n",
              "    </tr>\n",
              "    <tr>\n",
              "      <th>700</th>\n",
              "      <td>Observational</td>\n",
              "    </tr>\n",
              "    <tr>\n",
              "      <th>701</th>\n",
              "      <td>I am unable to review the customer :(We have ...</td>\n",
              "    </tr>\n",
              "  </tbody>\n",
              "</table>\n",
              "<p>702 rows × 1 columns</p>\n",
              "</div><br><label><b>dtype:</b> object</label>"
            ]
          },
          "metadata": {},
          "execution_count": 34
        }
      ]
    },
    {
      "cell_type": "code",
      "source": [],
      "metadata": {
        "id": "QU413E5b0_yc"
      },
      "execution_count": null,
      "outputs": []
    }
  ],
  "metadata": {
    "colab": {
      "provenance": [],
      "authorship_tag": "ABX9TyOOPh/yJUVIHlG7E+gQ72yD",
      "include_colab_link": true
    },
    "kernelspec": {
      "display_name": "Python 3",
      "name": "python3"
    },
    "language_info": {
      "name": "python"
    }
  },
  "nbformat": 4,
  "nbformat_minor": 0
}